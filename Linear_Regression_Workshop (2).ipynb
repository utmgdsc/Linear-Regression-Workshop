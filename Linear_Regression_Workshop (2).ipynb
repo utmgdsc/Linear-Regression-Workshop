{
 "cells": [
  {
   "cell_type": "code",
   "execution_count": 6,
   "metadata": {
    "colab": {
     "base_uri": "https://localhost:8080/"
    },
    "id": "eduw9yH3dAMz",
    "outputId": "2cf3c559-a0ee-4143-c5ca-66a81be1f135",
    "scrolled": true
   },
   "outputs": [
    {
     "name": "stdout",
     "output_type": "stream",
     "text": [
      "Requirement already satisfied: ISLP in /opt/conda/lib/python3.10/site-packages (0.3.21)\n",
      "Requirement already satisfied: numpy<1.25,>=1.7.1 in /opt/conda/lib/python3.10/site-packages (from ISLP) (1.24.4)\n",
      "Requirement already satisfied: scipy>=0.9 in /opt/conda/lib/python3.10/site-packages (from ISLP) (1.10.1)\n",
      "Requirement already satisfied: pandas<=1.9,>=0.20 in /opt/conda/lib/python3.10/site-packages (from ISLP) (1.5.3)\n",
      "Requirement already satisfied: lxml in /opt/conda/lib/python3.10/site-packages (from ISLP) (4.9.2)\n",
      "Requirement already satisfied: scikit-learn>=1.2 in /opt/conda/lib/python3.10/site-packages (from ISLP) (1.2.2)\n",
      "Requirement already satisfied: joblib in /opt/conda/lib/python3.10/site-packages (from ISLP) (1.2.0)\n",
      "Requirement already satisfied: statsmodels>=0.13 in /opt/conda/lib/python3.10/site-packages (from ISLP) (0.13.5)\n",
      "Requirement already satisfied: lifelines in /opt/conda/lib/python3.10/site-packages (from ISLP) (0.27.8)\n",
      "Requirement already satisfied: pygam in /opt/conda/lib/python3.10/site-packages (from ISLP) (0.9.0)\n",
      "Requirement already satisfied: torch in /opt/conda/lib/python3.10/site-packages (from ISLP) (2.1.1)\n",
      "Requirement already satisfied: pytorch-lightning in /opt/conda/lib/python3.10/site-packages (from ISLP) (2.1.2)\n",
      "Requirement already satisfied: torchmetrics in /opt/conda/lib/python3.10/site-packages (from ISLP) (1.2.0)\n",
      "Requirement already satisfied: python-dateutil>=2.8.1 in /opt/conda/lib/python3.10/site-packages (from pandas<=1.9,>=0.20->ISLP) (2.8.2)\n",
      "Requirement already satisfied: pytz>=2020.1 in /opt/conda/lib/python3.10/site-packages (from pandas<=1.9,>=0.20->ISLP) (2023.3)\n",
      "Requirement already satisfied: threadpoolctl>=2.0.0 in /opt/conda/lib/python3.10/site-packages (from scikit-learn>=1.2->ISLP) (3.1.0)\n",
      "Requirement already satisfied: patsy>=0.5.2 in /opt/conda/lib/python3.10/site-packages (from statsmodels>=0.13->ISLP) (0.5.3)\n",
      "Requirement already satisfied: packaging>=21.3 in /opt/conda/lib/python3.10/site-packages (from statsmodels>=0.13->ISLP) (23.1)\n",
      "Requirement already satisfied: matplotlib>=3.0 in /opt/conda/lib/python3.10/site-packages (from lifelines->ISLP) (3.6.3)\n",
      "Requirement already satisfied: autograd>=1.5 in /opt/conda/lib/python3.10/site-packages (from lifelines->ISLP) (1.6.2)\n",
      "Requirement already satisfied: autograd-gamma>=0.3 in /opt/conda/lib/python3.10/site-packages (from lifelines->ISLP) (0.5.0)\n",
      "Requirement already satisfied: formulaic>=0.2.2 in /opt/conda/lib/python3.10/site-packages (from lifelines->ISLP) (0.6.6)\n",
      "Requirement already satisfied: progressbar2<5.0.0,>=4.2.0 in /opt/conda/lib/python3.10/site-packages (from pygam->ISLP) (4.2.0)\n",
      "Requirement already satisfied: tqdm>=4.57.0 in /opt/conda/lib/python3.10/site-packages (from pytorch-lightning->ISLP) (4.65.0)\n",
      "Requirement already satisfied: PyYAML>=5.4 in /opt/conda/lib/python3.10/site-packages (from pytorch-lightning->ISLP) (6.0)\n",
      "Requirement already satisfied: fsspec[http]>2021.06.0 in /opt/conda/lib/python3.10/site-packages (from pytorch-lightning->ISLP) (2023.10.0)\n",
      "Requirement already satisfied: typing-extensions>=4.0.0 in /opt/conda/lib/python3.10/site-packages (from pytorch-lightning->ISLP) (4.6.3)\n",
      "Requirement already satisfied: lightning-utilities>=0.8.0 in /opt/conda/lib/python3.10/site-packages (from pytorch-lightning->ISLP) (0.9.0)\n",
      "Requirement already satisfied: filelock in /opt/conda/lib/python3.10/site-packages (from torch->ISLP) (3.13.1)\n",
      "Requirement already satisfied: sympy in /opt/conda/lib/python3.10/site-packages (from torch->ISLP) (1.11.1)\n",
      "Requirement already satisfied: networkx in /opt/conda/lib/python3.10/site-packages (from torch->ISLP) (2.8.8)\n",
      "Requirement already satisfied: jinja2 in /opt/conda/lib/python3.10/site-packages (from torch->ISLP) (3.1.2)\n",
      "Requirement already satisfied: nvidia-cuda-nvrtc-cu12==12.1.105 in /opt/conda/lib/python3.10/site-packages (from torch->ISLP) (12.1.105)\n",
      "Requirement already satisfied: nvidia-cuda-runtime-cu12==12.1.105 in /opt/conda/lib/python3.10/site-packages (from torch->ISLP) (12.1.105)\n",
      "Requirement already satisfied: nvidia-cuda-cupti-cu12==12.1.105 in /opt/conda/lib/python3.10/site-packages (from torch->ISLP) (12.1.105)\n",
      "Requirement already satisfied: nvidia-cudnn-cu12==8.9.2.26 in /opt/conda/lib/python3.10/site-packages (from torch->ISLP) (8.9.2.26)\n",
      "Requirement already satisfied: nvidia-cublas-cu12==12.1.3.1 in /opt/conda/lib/python3.10/site-packages (from torch->ISLP) (12.1.3.1)\n",
      "Requirement already satisfied: nvidia-cufft-cu12==11.0.2.54 in /opt/conda/lib/python3.10/site-packages (from torch->ISLP) (11.0.2.54)\n",
      "Requirement already satisfied: nvidia-curand-cu12==10.3.2.106 in /opt/conda/lib/python3.10/site-packages (from torch->ISLP) (10.3.2.106)\n",
      "Requirement already satisfied: nvidia-cusolver-cu12==11.4.5.107 in /opt/conda/lib/python3.10/site-packages (from torch->ISLP) (11.4.5.107)\n",
      "Requirement already satisfied: nvidia-cusparse-cu12==12.1.0.106 in /opt/conda/lib/python3.10/site-packages (from torch->ISLP) (12.1.0.106)\n",
      "Requirement already satisfied: nvidia-nccl-cu12==2.18.1 in /opt/conda/lib/python3.10/site-packages (from torch->ISLP) (2.18.1)\n",
      "Requirement already satisfied: nvidia-nvtx-cu12==12.1.105 in /opt/conda/lib/python3.10/site-packages (from torch->ISLP) (12.1.105)\n",
      "Requirement already satisfied: triton==2.1.0 in /opt/conda/lib/python3.10/site-packages (from torch->ISLP) (2.1.0)\n",
      "Requirement already satisfied: nvidia-nvjitlink-cu12 in /opt/conda/lib/python3.10/site-packages (from nvidia-cusolver-cu12==11.4.5.107->torch->ISLP) (12.3.101)\n",
      "Requirement already satisfied: future>=0.15.2 in /opt/conda/lib/python3.10/site-packages (from autograd>=1.5->lifelines->ISLP) (0.18.3)\n",
      "Requirement already satisfied: astor>=0.8 in /opt/conda/lib/python3.10/site-packages (from formulaic>=0.2.2->lifelines->ISLP) (0.8.1)\n",
      "Requirement already satisfied: interface-meta>=1.2.0 in /opt/conda/lib/python3.10/site-packages (from formulaic>=0.2.2->lifelines->ISLP) (1.3.0)\n",
      "Requirement already satisfied: wrapt>=1.0 in /opt/conda/lib/python3.10/site-packages (from formulaic>=0.2.2->lifelines->ISLP) (1.15.0)\n",
      "Requirement already satisfied: requests in /opt/conda/lib/python3.10/site-packages (from fsspec[http]>2021.06.0->pytorch-lightning->ISLP) (2.28.1)\n",
      "Requirement already satisfied: aiohttp!=4.0.0a0,!=4.0.0a1 in /opt/conda/lib/python3.10/site-packages (from fsspec[http]>2021.06.0->pytorch-lightning->ISLP) (3.8.4)\n",
      "Requirement already satisfied: contourpy>=1.0.1 in /opt/conda/lib/python3.10/site-packages (from matplotlib>=3.0->lifelines->ISLP) (1.1.0)\n",
      "Requirement already satisfied: cycler>=0.10 in /opt/conda/lib/python3.10/site-packages (from matplotlib>=3.0->lifelines->ISLP) (0.11.0)\n",
      "Requirement already satisfied: fonttools>=4.22.0 in /opt/conda/lib/python3.10/site-packages (from matplotlib>=3.0->lifelines->ISLP) (4.40.0)\n",
      "Requirement already satisfied: kiwisolver>=1.0.1 in /opt/conda/lib/python3.10/site-packages (from matplotlib>=3.0->lifelines->ISLP) (1.4.4)\n",
      "Requirement already satisfied: pillow>=6.2.0 in /opt/conda/lib/python3.10/site-packages (from matplotlib>=3.0->lifelines->ISLP) (9.4.0)\n",
      "Requirement already satisfied: pyparsing>=2.2.1 in /opt/conda/lib/python3.10/site-packages (from matplotlib>=3.0->lifelines->ISLP) (3.1.0)\n",
      "Requirement already satisfied: six in /opt/conda/lib/python3.10/site-packages (from patsy>=0.5.2->statsmodels>=0.13->ISLP) (1.16.0)\n",
      "Requirement already satisfied: python-utils>=3.0.0 in /opt/conda/lib/python3.10/site-packages (from progressbar2<5.0.0,>=4.2.0->pygam->ISLP) (3.8.1)\n",
      "Requirement already satisfied: MarkupSafe>=2.0 in /opt/conda/lib/python3.10/site-packages (from jinja2->torch->ISLP) (2.1.3)\n",
      "Requirement already satisfied: mpmath>=0.19 in /opt/conda/lib/python3.10/site-packages (from sympy->torch->ISLP) (1.3.0)\n",
      "Requirement already satisfied: attrs>=17.3.0 in /opt/conda/lib/python3.10/site-packages (from aiohttp!=4.0.0a0,!=4.0.0a1->fsspec[http]>2021.06.0->pytorch-lightning->ISLP) (23.1.0)\n",
      "Requirement already satisfied: charset-normalizer<4.0,>=2.0 in /opt/conda/lib/python3.10/site-packages (from aiohttp!=4.0.0a0,!=4.0.0a1->fsspec[http]>2021.06.0->pytorch-lightning->ISLP) (2.1.1)\n",
      "Requirement already satisfied: multidict<7.0,>=4.5 in /opt/conda/lib/python3.10/site-packages (from aiohttp!=4.0.0a0,!=4.0.0a1->fsspec[http]>2021.06.0->pytorch-lightning->ISLP) (6.0.4)\n",
      "Requirement already satisfied: async-timeout<5.0,>=4.0.0a3 in /opt/conda/lib/python3.10/site-packages (from aiohttp!=4.0.0a0,!=4.0.0a1->fsspec[http]>2021.06.0->pytorch-lightning->ISLP) (4.0.2)\n",
      "Requirement already satisfied: yarl<2.0,>=1.0 in /opt/conda/lib/python3.10/site-packages (from aiohttp!=4.0.0a0,!=4.0.0a1->fsspec[http]>2021.06.0->pytorch-lightning->ISLP) (1.9.2)\n",
      "Requirement already satisfied: frozenlist>=1.1.1 in /opt/conda/lib/python3.10/site-packages (from aiohttp!=4.0.0a0,!=4.0.0a1->fsspec[http]>2021.06.0->pytorch-lightning->ISLP) (1.3.3)\n",
      "Requirement already satisfied: aiosignal>=1.1.2 in /opt/conda/lib/python3.10/site-packages (from aiohttp!=4.0.0a0,!=4.0.0a1->fsspec[http]>2021.06.0->pytorch-lightning->ISLP) (1.3.1)\n",
      "Requirement already satisfied: idna<4,>=2.5 in /opt/conda/lib/python3.10/site-packages (from requests->fsspec[http]>2021.06.0->pytorch-lightning->ISLP) (3.4)\r\n",
      "Requirement already satisfied: urllib3<1.27,>=1.21.1 in /opt/conda/lib/python3.10/site-packages (from requests->fsspec[http]>2021.06.0->pytorch-lightning->ISLP) (1.26.13)\r\n",
      "Requirement already satisfied: certifi>=2017.4.17 in /opt/conda/lib/python3.10/site-packages (from requests->fsspec[http]>2021.06.0->pytorch-lightning->ISLP) (2022.12.7)\r\n"
     ]
    }
   ],
   "source": [
    "!pip install ISLP"
   ]
  },
  {
   "cell_type": "markdown",
   "metadata": {
    "id": "XMUK3Ua3dFtG"
   },
   "source": [
    "# Imports"
   ]
  },
  {
   "cell_type": "code",
   "execution_count": 7,
   "metadata": {
    "colab": {
     "base_uri": "https://localhost:8080/",
     "height": 391
    },
    "id": "LqkqoWsic3lK",
    "outputId": "dac62f23-e318-4866-b5b3-43bd5c0d2be6"
   },
   "outputs": [],
   "source": [
    "import numpy as np\n",
    "import pandas as pd\n",
    "from scipy import stats\n",
    "from matplotlib.pyplot import subplots\n",
    "import statsmodels.api as sm\n",
    "from statsmodels.stats.outliers_influence import variance_inflation_factor as VIF\n",
    "from statsmodels.stats.anova import anova_lm\n",
    "from ISLP import load_data\n",
    "from ISLP.models import (ModelSpec as MS, summarize, poly)\n",
    "import matplotlib.pyplot as plt"
   ]
  },
  {
   "cell_type": "markdown",
   "metadata": {
    "id": "LEVc-q4hdLGF"
   },
   "source": [
    "# Loading Dataset"
   ]
  },
  {
   "cell_type": "code",
   "execution_count": 8,
   "metadata": {
    "colab": {
     "base_uri": "https://localhost:8080/",
     "height": 211
    },
    "id": "wNSQx3erdOdt",
    "outputId": "13e9d601-52a3-479c-a879-cfbcf90c19e4"
   },
   "outputs": [
    {
     "data": {
      "text/plain": [
       "Index(['crim', 'zn', 'indus', 'chas', 'nox', 'rm', 'age', 'dis', 'rad', 'tax',\n",
       "       'ptratio', 'lstat', 'medv'],\n",
       "      dtype='object')"
      ]
     },
     "execution_count": 8,
     "metadata": {},
     "output_type": "execute_result"
    }
   ],
   "source": [
    "# Loading a dataset from ISLP\n",
    "dataset = load_data(\"Boston\")\n",
    "dataset.columns"
   ]
  },
  {
   "cell_type": "markdown",
   "metadata": {
    "id": "WQ2RLrRodOD1"
   },
   "source": [
    "# Base Simple Linear Regression to use for all the activities"
   ]
  },
  {
   "cell_type": "code",
   "execution_count": 9,
   "metadata": {
    "colab": {
     "base_uri": "https://localhost:8080/",
     "height": 211
    },
    "id": "abTi40hEdpXX",
    "outputId": "e7dd35e0-c659-47f0-ea4a-97d1339f8694"
   },
   "outputs": [
    {
     "data": {
      "text/html": [
       "<div>\n",
       "<style scoped>\n",
       "    .dataframe tbody tr th:only-of-type {\n",
       "        vertical-align: middle;\n",
       "    }\n",
       "\n",
       "    .dataframe tbody tr th {\n",
       "        vertical-align: top;\n",
       "    }\n",
       "\n",
       "    .dataframe thead th {\n",
       "        text-align: right;\n",
       "    }\n",
       "</style>\n",
       "<table border=\"1\" class=\"dataframe\">\n",
       "  <thead>\n",
       "    <tr style=\"text-align: right;\">\n",
       "      <th></th>\n",
       "      <th>const</th>\n",
       "      <th>lstat</th>\n",
       "    </tr>\n",
       "  </thead>\n",
       "  <tbody>\n",
       "    <tr>\n",
       "      <th>0</th>\n",
       "      <td>1.0</td>\n",
       "      <td>4.98</td>\n",
       "    </tr>\n",
       "    <tr>\n",
       "      <th>1</th>\n",
       "      <td>1.0</td>\n",
       "      <td>9.14</td>\n",
       "    </tr>\n",
       "    <tr>\n",
       "      <th>2</th>\n",
       "      <td>1.0</td>\n",
       "      <td>4.03</td>\n",
       "    </tr>\n",
       "    <tr>\n",
       "      <th>3</th>\n",
       "      <td>1.0</td>\n",
       "      <td>2.94</td>\n",
       "    </tr>\n",
       "  </tbody>\n",
       "</table>\n",
       "</div>"
      ],
      "text/plain": [
       "   const  lstat\n",
       "0    1.0   4.98\n",
       "1    1.0   9.14\n",
       "2    1.0   4.03\n",
       "3    1.0   2.94"
      ]
     },
     "execution_count": 9,
     "metadata": {},
     "output_type": "execute_result"
    }
   ],
   "source": [
    "# from the dataset we select a column to use for our x-axis\n",
    "X = dataset['lstat']\n",
    "X = sm.add_constant(X) # adding a constant term using lib, this constant term is needed for the linear regression model intercept\n",
    "X[:4]"
   ]
  },
  {
   "cell_type": "code",
   "execution_count": 10,
   "metadata": {
    "colab": {
     "base_uri": "https://localhost:8080/",
     "height": 228
    },
    "id": "R7aJ-PKIdr9j",
    "outputId": "5f89345e-6a0a-406f-d57b-ab4200b1d096"
   },
   "outputs": [
    {
     "data": {
      "text/html": [
       "<div>\n",
       "<style scoped>\n",
       "    .dataframe tbody tr th:only-of-type {\n",
       "        vertical-align: middle;\n",
       "    }\n",
       "\n",
       "    .dataframe tbody tr th {\n",
       "        vertical-align: top;\n",
       "    }\n",
       "\n",
       "    .dataframe thead th {\n",
       "        text-align: right;\n",
       "    }\n",
       "</style>\n",
       "<table border=\"1\" class=\"dataframe\">\n",
       "  <thead>\n",
       "    <tr style=\"text-align: right;\">\n",
       "      <th></th>\n",
       "      <th>coef</th>\n",
       "      <th>std err</th>\n",
       "      <th>t</th>\n",
       "      <th>P&gt;|t|</th>\n",
       "    </tr>\n",
       "  </thead>\n",
       "  <tbody>\n",
       "    <tr>\n",
       "      <th>const</th>\n",
       "      <td>34.5538</td>\n",
       "      <td>0.563</td>\n",
       "      <td>61.415</td>\n",
       "      <td>0.0</td>\n",
       "    </tr>\n",
       "    <tr>\n",
       "      <th>lstat</th>\n",
       "      <td>-0.9500</td>\n",
       "      <td>0.039</td>\n",
       "      <td>-24.528</td>\n",
       "      <td>0.0</td>\n",
       "    </tr>\n",
       "  </tbody>\n",
       "</table>\n",
       "</div>"
      ],
      "text/plain": [
       "          coef  std err       t  P>|t|\n",
       "const  34.5538    0.563  61.415    0.0\n",
       "lstat  -0.9500    0.039 -24.528    0.0"
      ]
     },
     "execution_count": 10,
     "metadata": {},
     "output_type": "execute_result"
    }
   ],
   "source": [
    "# from the dataset we select a column to use for our y-axis (dependant variable)\n",
    "y = dataset['medv']\n",
    "model = sm.OLS(y, X) # Uses Ordinary Least Squares (OLS) regression from lib to fit a linear regression model (sm.OLS) with 'medv' as the dependent variable and 'lstat' (plus the constant term) as the independent variable\n",
    "results = model.fit()\n",
    "summarize(results)"
   ]
  },
  {
   "cell_type": "code",
   "execution_count": 1,
   "metadata": {
    "colab": {
     "base_uri": "https://localhost:8080/",
     "height": 246
    },
    "id": "7IXPDrkzd0FT",
    "outputId": "34f78522-263c-4173-bcac-b643484704bd",
    "scrolled": false
   },
   "outputs": [
    {
     "ename": "NameError",
     "evalue": "name 'plt' is not defined",
     "output_type": "error",
     "traceback": [
      "\u001b[0;31m---------------------------------------------------------------------------\u001b[0m",
      "\u001b[0;31mNameError\u001b[0m                                 Traceback (most recent call last)",
      "Cell \u001b[0;32mIn[1], line 1\u001b[0m\n\u001b[0;32m----> 1\u001b[0m \u001b[43mplt\u001b[49m\u001b[38;5;241m.\u001b[39mscatter(dataset[\u001b[38;5;124m'\u001b[39m\u001b[38;5;124mlstat\u001b[39m\u001b[38;5;124m'\u001b[39m], dataset[\u001b[38;5;124m'\u001b[39m\u001b[38;5;124mmedv\u001b[39m\u001b[38;5;124m'\u001b[39m], color\u001b[38;5;241m=\u001b[39m\u001b[38;5;124m'\u001b[39m\u001b[38;5;124mblue\u001b[39m\u001b[38;5;124m'\u001b[39m, label\u001b[38;5;241m=\u001b[39m\u001b[38;5;124m'\u001b[39m\u001b[38;5;124mData points\u001b[39m\u001b[38;5;124m'\u001b[39m) \u001b[38;5;66;03m# basically plots the blue plots on the graph\u001b[39;00m\n\u001b[1;32m      3\u001b[0m lstat_line \u001b[38;5;241m=\u001b[39m np\u001b[38;5;241m.\u001b[39mlinspace(dataset[\u001b[38;5;124m'\u001b[39m\u001b[38;5;124mlstat\u001b[39m\u001b[38;5;124m'\u001b[39m]\u001b[38;5;241m.\u001b[39mmin(), dataset[\u001b[38;5;124m'\u001b[39m\u001b[38;5;124mlstat\u001b[39m\u001b[38;5;124m'\u001b[39m]\u001b[38;5;241m.\u001b[39mmax()) \u001b[38;5;66;03m# creates a list of numbers evenly spaced between min and max \u001b[39;00m\n\u001b[1;32m      5\u001b[0m \u001b[38;5;66;03m# IMPORTANT\u001b[39;00m\n\u001b[1;32m      6\u001b[0m \u001b[38;5;66;03m# results.params['const'] retrieves the estimated coefficient (parameter) of the constant term from the linear regression model {hence B_0}\u001b[39;00m\n\u001b[1;32m      7\u001b[0m \u001b[38;5;66;03m# results.params['lstat'] retrieves the estimated coefficient of the 'lstat' variable from the linear regression model {hence B_1}\u001b[39;00m\n\u001b[0;32m   (...)\u001b[0m\n\u001b[1;32m     10\u001b[0m \u001b[38;5;66;03m# It essentially represents the regression line or line of best fit based on the model's coefficients and the range of 'lstat' values\u001b[39;00m\n\u001b[1;32m     11\u001b[0m \u001b[38;5;66;03m# RECALL: this is essentially the equation we just learnt y^ = B_0 + B_1*x\u001b[39;00m\n",
      "\u001b[0;31mNameError\u001b[0m: name 'plt' is not defined"
     ]
    }
   ],
   "source": [
    "plt.scatter(dataset['lstat'], dataset['medv'], color='blue', label='Data points') # basically plots the blue plots on the graph\n",
    "\n",
    "lstat_line = np.linspace(dataset['lstat'].min(), dataset['lstat'].max()) # creates a list of numbers evenly spaced between min and max \n",
    "\n",
    "# IMPORTANT\n",
    "# results.params['const'] retrieves the estimated coefficient (parameter) of the constant term from the linear regression model {hence B_0}\n",
    "# results.params['lstat'] retrieves the estimated coefficient of the 'lstat' variable from the linear regression model {hence B_1}\n",
    "# results.params['const'] + results.params['lstat'] * lstat_line computes the predicted 'medv' values based on the linear regression equation {hence B_1 * x}\n",
    "# This line calculates the values for the 'medv' variable using the coefficients obtained from the regression results and the 'lstat' values in lstat_line\n",
    "# It essentially represents the regression line or line of best fit based on the model's coefficients and the range of 'lstat' values\n",
    "# RECALL: this is essentially the equation we just learnt y^ = B_0 + B_1*x\n",
    "medv_line = results.params['const'] + results.params['lstat'] * lstat_line\n",
    "\n",
    "plt.plot(lstat_line, medv_line, color='red', label='Line of best fit') # plotting best fit by plotting the 'lstat_line' values along the x-axis against the 'medv_line' values along the y-axis\n",
    "\n",
    "plt.xlabel('LSTAT')\n",
    "plt.ylabel('MEDV')\n",
    "plt.title('Scatter plot with line of best fit')\n",
    "plt.legend()"
   ]
  },
  {
   "cell_type": "markdown",
   "metadata": {},
   "source": [
    "# Simple Linear Regression"
   ]
  },
  {
   "cell_type": "markdown",
   "metadata": {},
   "source": [
    "### Exercise 1:"
   ]
  },
  {
   "cell_type": "code",
   "execution_count": 11,
   "metadata": {
    "slideshow": {
     "slide_type": "subslide"
    }
   },
   "outputs": [
    {
     "data": {
      "text/plain": [
       "Index(['AtBat', 'Hits', 'HmRun', 'Runs', 'RBI', 'Walks', 'Years', 'CAtBat',\n",
       "       'CHits', 'CHmRun', 'CRuns', 'CRBI', 'CWalks', 'League', 'Division',\n",
       "       'PutOuts', 'Assists', 'Errors', 'Salary', 'NewLeague'],\n",
       "      dtype='object')"
      ]
     },
     "execution_count": 11,
     "metadata": {},
     "output_type": "execute_result"
    }
   ],
   "source": [
    "# this time we're gonna use another dataset from ISLP\n",
    "# TODO: import the dataset Hitters (Hint -- look at the Loading Dataset section)\n",
    "new_dataset = 0\n",
    "new_dataset.columns"
   ]
  },
  {
   "cell_type": "code",
   "execution_count": 12,
   "metadata": {},
   "outputs": [
    {
     "data": {
      "text/html": [
       "<div>\n",
       "<style scoped>\n",
       "    .dataframe tbody tr th:only-of-type {\n",
       "        vertical-align: middle;\n",
       "    }\n",
       "\n",
       "    .dataframe tbody tr th {\n",
       "        vertical-align: top;\n",
       "    }\n",
       "\n",
       "    .dataframe thead th {\n",
       "        text-align: right;\n",
       "    }\n",
       "</style>\n",
       "<table border=\"1\" class=\"dataframe\">\n",
       "  <thead>\n",
       "    <tr style=\"text-align: right;\">\n",
       "      <th></th>\n",
       "      <th>const</th>\n",
       "      <th>CRuns</th>\n",
       "    </tr>\n",
       "  </thead>\n",
       "  <tbody>\n",
       "    <tr>\n",
       "      <th>0</th>\n",
       "      <td>1.0</td>\n",
       "      <td>30</td>\n",
       "    </tr>\n",
       "    <tr>\n",
       "      <th>1</th>\n",
       "      <td>1.0</td>\n",
       "      <td>321</td>\n",
       "    </tr>\n",
       "    <tr>\n",
       "      <th>2</th>\n",
       "      <td>1.0</td>\n",
       "      <td>224</td>\n",
       "    </tr>\n",
       "    <tr>\n",
       "      <th>3</th>\n",
       "      <td>1.0</td>\n",
       "      <td>828</td>\n",
       "    </tr>\n",
       "  </tbody>\n",
       "</table>\n",
       "</div>"
      ],
      "text/plain": [
       "   const  CRuns\n",
       "0    1.0     30\n",
       "1    1.0    321\n",
       "2    1.0    224\n",
       "3    1.0    828"
      ]
     },
     "execution_count": 12,
     "metadata": {},
     "output_type": "execute_result"
    }
   ],
   "source": [
    "X_2 = 0 # TODO: set the column CRuns as the independent variable along the x-axis\n",
    "X_2 = 0 # add a constant term using lib, this constant term is needed for the linear regression model intercept\n",
    "X_2[:4]"
   ]
  },
  {
   "cell_type": "code",
   "execution_count": 13,
   "metadata": {},
   "outputs": [
    {
     "data": {
      "text/html": [
       "<div>\n",
       "<style scoped>\n",
       "    .dataframe tbody tr th:only-of-type {\n",
       "        vertical-align: middle;\n",
       "    }\n",
       "\n",
       "    .dataframe tbody tr th {\n",
       "        vertical-align: top;\n",
       "    }\n",
       "\n",
       "    .dataframe thead th {\n",
       "        text-align: right;\n",
       "    }\n",
       "</style>\n",
       "<table border=\"1\" class=\"dataframe\">\n",
       "  <thead>\n",
       "    <tr style=\"text-align: right;\">\n",
       "      <th></th>\n",
       "      <th>coef</th>\n",
       "      <th>std err</th>\n",
       "      <th>t</th>\n",
       "      <th>P&gt;|t|</th>\n",
       "    </tr>\n",
       "  </thead>\n",
       "  <tbody>\n",
       "    <tr>\n",
       "      <th>const</th>\n",
       "      <td>87.9649</td>\n",
       "      <td>3.675</td>\n",
       "      <td>23.935</td>\n",
       "      <td>0.0</td>\n",
       "    </tr>\n",
       "    <tr>\n",
       "      <th>CRuns</th>\n",
       "      <td>0.0364</td>\n",
       "      <td>0.008</td>\n",
       "      <td>4.852</td>\n",
       "      <td>0.0</td>\n",
       "    </tr>\n",
       "  </tbody>\n",
       "</table>\n",
       "</div>"
      ],
      "text/plain": [
       "          coef  std err       t  P>|t|\n",
       "const  87.9649    3.675  23.935    0.0\n",
       "CRuns   0.0364    0.008   4.852    0.0"
      ]
     },
     "execution_count": 13,
     "metadata": {},
     "output_type": "execute_result"
    }
   ],
   "source": [
    "y_2 = 0 # TODO: set the column Hits as the dependent variable along the y-axis\n",
    "second_model = 0 # TODO: Use Ordinary Least Squares (OLS) regression from lib to fit a linear regression model\n",
    "second_results = 0 # TODO: replace\n",
    "summarize(0) # TODO: replace"
   ]
  },
  {
   "cell_type": "code",
   "execution_count": null,
   "metadata": {},
   "outputs": [],
   "source": [
    "# TODO: calculate the linear regression and plot the graph"
   ]
  },
  {
   "cell_type": "markdown",
   "metadata": {},
   "source": [
    "### Exercise 2:"
   ]
  },
  {
   "cell_type": "code",
   "execution_count": null,
   "metadata": {},
   "outputs": [],
   "source": [
    "X_3 = 0 # TODO: set the column Walks as the independent variable along the x-axis\n",
    "X_3 = 0 # add a constant term using lib, this constant term is needed for the linear regression model intercept\n",
    "X_3[:4]"
   ]
  },
  {
   "cell_type": "code",
   "execution_count": null,
   "metadata": {},
   "outputs": [],
   "source": [
    "y_3 = 0 # TODO: set the column  as the dependent variable along the y-axis\n",
    "third_model = 0 # TODO: Use Ordinary Least Squares (OLS) regression from lib to fit a linear regression model\n",
    "third_results = 0 # TODO: replace\n",
    "summarize(0) # TODO: replace"
   ]
  },
  {
   "cell_type": "code",
   "execution_count": null,
   "metadata": {},
   "outputs": [],
   "source": [
    "# TODO: calculate the linear regression and plot the graph\n",
    "# TODO: name the graph something unique"
   ]
  },
  {
   "cell_type": "markdown",
   "metadata": {
    "id": "1ZgEJWbPKG7u"
   },
   "source": [
    "# Standard Error and Confidence Intervals"
   ]
  },
  {
   "cell_type": "markdown",
   "metadata": {
    "id": "B5dEy_2RQHvz"
   },
   "source": [
    "Standard Error"
   ]
  },
  {
   "cell_type": "code",
   "execution_count": 10,
   "metadata": {
    "colab": {
     "base_uri": "https://localhost:8080/"
    },
    "id": "NNO2Y55eeUxj",
    "outputId": "cff92025-00e8-4d42-9d07-3ca942498fed"
   },
   "outputs": [
    {
     "data": {
      "text/plain": [
       "const    0.563\n",
       "lstat    0.039\n",
       "Name: std err, dtype: float64"
      ]
     },
     "execution_count": 10,
     "metadata": {},
     "output_type": "execute_result"
    }
   ],
   "source": [
    "# Calculating S.E using lib\n",
    "summarize(results)['std err']"
   ]
  },
  {
   "cell_type": "code",
   "execution_count": 11,
   "metadata": {
    "id": "Wg7spDInOqqR"
   },
   "outputs": [],
   "source": [
    "# Get the residuals\n",
    "e_terms = results.resid"
   ]
  },
  {
   "cell_type": "code",
   "execution_count": 12,
   "metadata": {
    "colab": {
     "base_uri": "https://localhost:8080/"
    },
    "id": "-pQEzW3dOqqS",
    "outputId": "f9f26835-5cdd-45b2-ea04-38210906a142"
   },
   "outputs": [
    {
     "data": {
      "text/plain": [
       "0"
      ]
     },
     "execution_count": 12,
     "metadata": {},
     "output_type": "execute_result"
    }
   ],
   "source": [
    "n = 0  # TODO - hint: number of observations\n",
    "p = 0  # TODO - hint: number of parameters estimated (intercept and slope)\n",
    "SSR = 0 # TODO\n",
    "sigma_squared = 0 # TODO\n",
    "sigma_squared"
   ]
  },
  {
   "cell_type": "code",
   "execution_count": 13,
   "metadata": {
    "colab": {
     "base_uri": "https://localhost:8080/"
    },
    "id": "4fo1GJwgOqqS",
    "outputId": "52657cad-78db-4d11-84fb-e8cb9c870c61"
   },
   "outputs": [
    {
     "data": {
      "text/plain": [
       "(0, 0)"
      ]
     },
     "execution_count": 13,
     "metadata": {},
     "output_type": "execute_result"
    }
   ],
   "source": [
    "# y_hat = beta_0_hat + beta_1_hat*x\n",
    "# Calculate the sum of squares of the differences from the mean of 'lstat'\n",
    "lstat_mean = 0 # TODO\n",
    "sum_squares = 0 # TODO\n",
    "\n",
    "# Calculate SE(beta_1_hat) - the standard error of the slope\n",
    "SE_beta_1_hat = 0 # TODO\n",
    "\n",
    "# Calculate SE(beta_0_hat) - the standard error of the intercept\n",
    "SE_beta_0_hat = 0 # TODO\n",
    "\n",
    "SE_beta_1_hat, SE_beta_0_hat"
   ]
  },
  {
   "cell_type": "markdown",
   "metadata": {
    "id": "zmojB4r6QMaX"
   },
   "source": [
    "Confidence Intervals"
   ]
  },
  {
   "cell_type": "code",
   "execution_count": 14,
   "metadata": {
    "colab": {
     "base_uri": "https://localhost:8080/",
     "height": 112
    },
    "id": "oSQ-6lRJQN8P",
    "outputId": "94d5c379-5016-4133-dcce-2c814d58f8a6"
   },
   "outputs": [
    {
     "data": {
      "text/html": [
       "<div>\n",
       "<style scoped>\n",
       "    .dataframe tbody tr th:only-of-type {\n",
       "        vertical-align: middle;\n",
       "    }\n",
       "\n",
       "    .dataframe tbody tr th {\n",
       "        vertical-align: top;\n",
       "    }\n",
       "\n",
       "    .dataframe thead th {\n",
       "        text-align: right;\n",
       "    }\n",
       "</style>\n",
       "<table border=\"1\" class=\"dataframe\">\n",
       "  <thead>\n",
       "    <tr style=\"text-align: right;\">\n",
       "      <th></th>\n",
       "      <th>0</th>\n",
       "      <th>1</th>\n",
       "    </tr>\n",
       "  </thead>\n",
       "  <tbody>\n",
       "    <tr>\n",
       "      <th>const</th>\n",
       "      <td>33.448457</td>\n",
       "      <td>35.659225</td>\n",
       "    </tr>\n",
       "    <tr>\n",
       "      <th>lstat</th>\n",
       "      <td>-1.026148</td>\n",
       "      <td>-0.873951</td>\n",
       "    </tr>\n",
       "  </tbody>\n",
       "</table>\n",
       "</div>"
      ],
      "text/plain": [
       "               0          1\n",
       "const  33.448457  35.659225\n",
       "lstat  -1.026148  -0.873951"
      ]
     },
     "execution_count": 14,
     "metadata": {},
     "output_type": "execute_result"
    }
   ],
   "source": [
    "# Using the library\n",
    "results.conf_int()"
   ]
  },
  {
   "cell_type": "code",
   "execution_count": 15,
   "metadata": {
    "colab": {
     "base_uri": "https://localhost:8080/"
    },
    "id": "fk0n12ABQick",
    "outputId": "b8dccf8c-e9af-449b-9df3-629703e7cabb"
   },
   "outputs": [
    {
     "data": {
      "text/plain": [
       "((0, 0), (0, 0))"
      ]
     },
     "execution_count": 15,
     "metadata": {},
     "output_type": "execute_result"
    }
   ],
   "source": [
    "# Calculating it manually\n",
    "beta_0_hat = results.params[0]\n",
    "beta_1_hat = results.params[1]\n",
    "\n",
    "beta_0_min_val = 0 # TODO\n",
    "beta_0_max_val = 0 # TODO\n",
    "\n",
    "\n",
    "beta_1_min_val = 0 # TODO\n",
    "beta_1_max_val = 0 # TODO\n",
    "\n",
    "((beta_0_min_val, beta_0_max_val), (beta_1_min_val, beta_1_max_val))"
   ]
  },
  {
   "cell_type": "markdown",
   "metadata": {},
   "source": [
    "# Hypothesis Testing"
   ]
  },
  {
   "cell_type": "markdown",
   "metadata": {},
   "source": [
    "### Null Hypothesis"
   ]
  },
  {
   "cell_type": "code",
   "execution_count": null,
   "metadata": {},
   "outputs": [],
   "source": [
    "# H₀: The data is normally distributed.\n",
    "# H₁: The data is not normally distributed\n",
    "# Assume that α=0.05. If the p-value is >0.05, it can be said that data is normally distributed.n"
   ]
  },
  {
   "cell_type": "markdown",
   "metadata": {},
   "source": [
    "### t-statistic"
   ]
  },
  {
   "cell_type": "code",
   "execution_count": null,
   "metadata": {},
   "outputs": [],
   "source": [
    "# calculate the t-statistic for beta_hat_1\n",
    "t_stat_beta_1 = 0 # TODO: use formula (beta_hat_1 - 0) / SE(beta_hat_1)\n",
    "t_stat_beta_1"
   ]
  },
  {
   "cell_type": "markdown",
   "metadata": {},
   "source": [
    "### p-value"
   ]
  },
  {
   "cell_type": "code",
   "execution_count": null,
   "metadata": {},
   "outputs": [],
   "source": [
    "# calculate the degrees of freedom\n",
    "degrees_freedom = # TODO (Hint -- Two parameters intercept and slope)\n",
    "\n",
    "# Calculate the p-value for beta_1_hat\n",
    "p_value_beta_1 = 0 # TODO: use formula p = 2×(1−cdf(∣t-statistic∣))\n",
    "# HINT: look into stats.t.cdf() from the scipy lib\n",
    "p_value_beta_1"
   ]
  },
  {
   "cell_type": "markdown",
   "metadata": {
    "id": "bM8yekHhSNOD"
   },
   "source": [
    "# RSE, R^2 and F-Statistic"
   ]
  },
  {
   "cell_type": "markdown",
   "metadata": {
    "id": "2T4BAxZaXAps"
   },
   "source": [
    "### RSE"
   ]
  },
  {
   "cell_type": "code",
   "execution_count": null,
   "metadata": {
    "colab": {
     "base_uri": "https://localhost:8080/"
    },
    "id": "0IiynYXuSTrf",
    "outputId": "7b4036e3-0b97-43df-8f29-94daf6b29df8"
   },
   "outputs": [
    {
     "data": {
      "text/plain": [
       "19472.381418326437"
      ]
     },
     "execution_count": 20,
     "metadata": {},
     "output_type": "execute_result"
    }
   ],
   "source": [
    "# RSS using lib\n",
    "np.sum(results.resid**2)"
   ]
  },
  {
   "cell_type": "code",
   "execution_count": null,
   "metadata": {
    "colab": {
     "base_uri": "https://localhost:8080/"
    },
    "id": "zVyj5fW6UIl7",
    "outputId": "d1e6f1b2-7a5d-4382-b546-891a98ebef39"
   },
   "outputs": [
    {
     "data": {
      "text/plain": [
       "0"
      ]
     },
     "execution_count": 21,
     "metadata": {},
     "output_type": "execute_result"
    }
   ],
   "source": [
    "# Calculating RSS manually\n",
    "beta_0_hat = results.params[0]\n",
    "beta_1_hat = results.params[1]\n",
    "x = None # TODO\n",
    "y = None # TODO\n",
    "y_hat = None # TODO\n",
    "RSS = 0 # TODO\n",
    "RSS"
   ]
  },
  {
   "cell_type": "code",
   "execution_count": null,
   "metadata": {
    "colab": {
     "base_uri": "https://localhost:8080/"
    },
    "id": "fA1KtfVeWwqY",
    "outputId": "0fe76997-1636-4d6c-e96f-51490d26a9fe"
   },
   "outputs": [
    {
     "data": {
      "text/plain": [
       "6.215760405398068"
      ]
     },
     "execution_count": 22,
     "metadata": {},
     "output_type": "execute_result"
    }
   ],
   "source": [
    "# RSE using lib\n",
    "np.sqrt(results.mse_resid)"
   ]
  },
  {
   "cell_type": "code",
   "execution_count": null,
   "metadata": {
    "colab": {
     "base_uri": "https://localhost:8080/"
    },
    "id": "0Jog7PgFWEKK",
    "outputId": "cd6d891c-aa57-406f-fbd7-de820e5d413c"
   },
   "outputs": [
    {
     "data": {
      "text/plain": [
       "0"
      ]
     },
     "execution_count": 23,
     "metadata": {},
     "output_type": "execute_result"
    }
   ],
   "source": [
    "# Calculating RSE manually\n",
    "n = 0 # TODO\n",
    "RSE = 0 # TODO\n",
    "RSE"
   ]
  },
  {
   "cell_type": "markdown",
   "metadata": {
    "id": "gY7jG9hqW88C"
   },
   "source": [
    "### R-squared"
   ]
  },
  {
   "cell_type": "code",
   "execution_count": null,
   "metadata": {
    "colab": {
     "base_uri": "https://localhost:8080/"
    },
    "id": "J3k9JDcrWUhy",
    "outputId": "5d336701-daa7-4d46-a18c-baead7b9aa13"
   },
   "outputs": [
    {
     "data": {
      "text/plain": [
       "0.5441462975864799"
      ]
     },
     "execution_count": 24,
     "metadata": {},
     "output_type": "execute_result"
    }
   ],
   "source": [
    "# R-squared using lib\n",
    "results.rsquared"
   ]
  },
  {
   "cell_type": "code",
   "execution_count": null,
   "metadata": {
    "colab": {
     "base_uri": "https://localhost:8080/"
    },
    "id": "6Wke4rJLXTXM",
    "outputId": "4bcb3fe6-8c05-4432-e14f-22a5c6091188"
   },
   "outputs": [
    {
     "data": {
      "text/plain": [
       "0"
      ]
     },
     "execution_count": 25,
     "metadata": {},
     "output_type": "execute_result"
    }
   ],
   "source": [
    "# Calculating R squared manually\n",
    "\n",
    "# Calculating TSS\n",
    "y_mean = 0 # TODO\n",
    "TSS = 0 # TODO\n",
    "\n",
    "# Calculating R-squared\n",
    "r_squared = 0 #TODO\n",
    "\n",
    "r_squared"
   ]
  },
  {
   "cell_type": "markdown",
   "metadata": {
    "id": "c-yfznNtUIFm"
   },
   "source": [
    "### F-statistic"
   ]
  },
  {
   "cell_type": "code",
   "execution_count": null,
   "metadata": {
    "colab": {
     "base_uri": "https://localhost:8080/"
    },
    "id": "OvUdArtTYpPO",
    "outputId": "963526fc-3ba8-4257-829d-a5d5c5ff6266"
   },
   "outputs": [
    {
     "data": {
      "text/plain": [
       "601.6178711098955"
      ]
     },
     "execution_count": 26,
     "metadata": {},
     "output_type": "execute_result"
    }
   ],
   "source": [
    "# Calculating it manually\n",
    "results.fvalue"
   ]
  },
  {
   "cell_type": "code",
   "execution_count": null,
   "metadata": {
    "id": "GOadTApmYckv"
   },
   "outputs": [],
   "source": [
    "p = 0  # TODO - number of predictors including the intercept\n",
    "n = 0  # TODO - number of observations"
   ]
  },
  {
   "cell_type": "code",
   "execution_count": null,
   "metadata": {
    "colab": {
     "base_uri": "https://localhost:8080/"
    },
    "id": "Hm1deb0TYgT7",
    "outputId": "d2c52527-433c-4c2b-9bee-0195e86f7998"
   },
   "outputs": [
    {
     "data": {
      "text/plain": [
       "0"
      ]
     },
     "execution_count": 28,
     "metadata": {},
     "output_type": "execute_result"
    }
   ],
   "source": [
    "f_value = 0 # TODO\n",
    "f_value"
   ]
  },
  {
   "cell_type": "markdown",
   "metadata": {},
   "source": [
    "# Multiple Linear Regression"
   ]
  },
  {
   "cell_type": "code",
   "execution_count": null,
   "metadata": {},
   "outputs": [],
   "source": [
    "# imports\n",
    "from mpl_toolkits.mplot3d import Axes3D"
   ]
  },
  {
   "cell_type": "code",
   "execution_count": null,
   "metadata": {},
   "outputs": [],
   "source": [
    "# from the dataset we select multiple columns to use for our x-axis (independent variables)\n",
    "X = dataset[['lstat', 'age']]\n",
    "X = 0 # add a constant term using lib, this constant term is needed for the linear regression model intercept"
   ]
  },
  {
   "cell_type": "code",
   "execution_count": null,
   "metadata": {},
   "outputs": [],
   "source": [
    "# TODO: set the dependent variable along the y-axis"
   ]
  },
  {
   "cell_type": "code",
   "execution_count": null,
   "metadata": {},
   "outputs": [],
   "source": [
    "# Get the coefficients from the fitted model\n",
    "coef = results.params\n",
    "\n",
    "# Generate coordinates for the plane using lstat and age values\n",
    "lstat_vals = 0 # TODO: Use Ordinary Least Squares (OLS) regression from lib to fit a linear regression model, only 100 intervals\n",
    "age_vals = 0 # TODO: Use Ordinary Least Squares (OLS) regression from lib to fit a linear regression model, only 100 intervals\n",
    "lstat_vals, age_vals = np.meshgrid(lstat_vals, age_vals)\n",
    "medv_vals = coef[0] + coef[1] * lstat_vals + coef[2] * age_vals"
   ]
  },
  {
   "cell_type": "code",
   "execution_count": null,
   "metadata": {},
   "outputs": [],
   "source": [
    "# Create a 3D plot\n",
    "fig = plt.figure(figsize=(10, 8))\n",
    "ax = fig.add_subplot(111, projection='3d')\n",
    "\n",
    "# Plot the data points\n",
    "ax.scatter(dataset['lstat'], dataset['age'], dataset['medv'], color='blue', label='Data points')\n",
    "\n",
    "# Plot the fitted plane\n",
    "ax.plot_surface(lstat_vals, age_vals, medv_vals, alpha=0.5, cmap='viridis')\n",
    "\n",
    "# Set labels and title\n",
    "ax.set_xlabel('LSTAT')\n",
    "ax.set_ylabel('AGE')\n",
    "ax.set_zlabel('MEDV')\n",
    "ax.set_title('3D Scatter plot with fitted plane')\n",
    "\n",
    "# Show the plot\n",
    "plt.legend()\n",
    "plt.show()"
   ]
  },
  {
   "cell_type": "markdown",
   "metadata": {
    "id": "B_f1RtafaBhb"
   },
   "source": [
    "## Polynomial Regression"
   ]
  },
  {
   "cell_type": "markdown",
   "metadata": {
    "id": "wsCyoDa8gKaT"
   },
   "source": [
    "TODO: in the below cell, make your dataframe look like this when you print out the first 4 records\n",
    "\n",
    "![image.png](data:image/png;base64,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)"
   ]
  },
  {
   "cell_type": "code",
   "execution_count": null,
   "metadata": {
    "id": "AyCfeEqLaFsP"
   },
   "outputs": [],
   "source": [
    "# TODO"
   ]
  },
  {
   "cell_type": "code",
   "execution_count": null,
   "metadata": {
    "id": "nDr6lzA3cDGv"
   },
   "outputs": [],
   "source": [
    "y = dataset['medv']\n",
    "model = sm.OLS(y, X)\n",
    "results = model.fit()"
   ]
  },
  {
   "cell_type": "code",
   "execution_count": null,
   "metadata": {
    "colab": {
     "base_uri": "https://localhost:8080/",
     "height": 112
    },
    "id": "a3Po2LqJcIP8",
    "outputId": "f305e89b-121e-4594-c5f8-a58d790ab4e9"
   },
   "outputs": [
    {
     "data": {
      "text/html": [
       "\n",
       "  <div id=\"df-e2261824-735c-4e4a-9a6e-9ad267684667\" class=\"colab-df-container\">\n",
       "    <div>\n",
       "<style scoped>\n",
       "    .dataframe tbody tr th:only-of-type {\n",
       "        vertical-align: middle;\n",
       "    }\n",
       "\n",
       "    .dataframe tbody tr th {\n",
       "        vertical-align: top;\n",
       "    }\n",
       "\n",
       "    .dataframe thead th {\n",
       "        text-align: right;\n",
       "    }\n",
       "</style>\n",
       "<table border=\"1\" class=\"dataframe\">\n",
       "  <thead>\n",
       "    <tr style=\"text-align: right;\">\n",
       "      <th></th>\n",
       "      <th>coef</th>\n",
       "      <th>std err</th>\n",
       "      <th>t</th>\n",
       "      <th>P&gt;|t|</th>\n",
       "    </tr>\n",
       "  </thead>\n",
       "  <tbody>\n",
       "    <tr>\n",
       "      <th>const</th>\n",
       "      <td>34.5538</td>\n",
       "      <td>0.563</td>\n",
       "      <td>61.415</td>\n",
       "      <td>0.0</td>\n",
       "    </tr>\n",
       "    <tr>\n",
       "      <th>lstat</th>\n",
       "      <td>-0.9500</td>\n",
       "      <td>0.039</td>\n",
       "      <td>-24.528</td>\n",
       "      <td>0.0</td>\n",
       "    </tr>\n",
       "  </tbody>\n",
       "</table>\n",
       "</div>\n",
       "    <div class=\"colab-df-buttons\">\n",
       "\n",
       "  <div class=\"colab-df-container\">\n",
       "    <button class=\"colab-df-convert\" onclick=\"convertToInteractive('df-e2261824-735c-4e4a-9a6e-9ad267684667')\"\n",
       "            title=\"Convert this dataframe to an interactive table.\"\n",
       "            style=\"display:none;\">\n",
       "\n",
       "  <svg xmlns=\"http://www.w3.org/2000/svg\" height=\"24px\" viewBox=\"0 -960 960 960\">\n",
       "    <path d=\"M120-120v-720h720v720H120Zm60-500h600v-160H180v160Zm220 220h160v-160H400v160Zm0 220h160v-160H400v160ZM180-400h160v-160H180v160Zm440 0h160v-160H620v160ZM180-180h160v-160H180v160Zm440 0h160v-160H620v160Z\"/>\n",
       "  </svg>\n",
       "    </button>\n",
       "\n",
       "  <style>\n",
       "    .colab-df-container {\n",
       "      display:flex;\n",
       "      gap: 12px;\n",
       "    }\n",
       "\n",
       "    .colab-df-convert {\n",
       "      background-color: #E8F0FE;\n",
       "      border: none;\n",
       "      border-radius: 50%;\n",
       "      cursor: pointer;\n",
       "      display: none;\n",
       "      fill: #1967D2;\n",
       "      height: 32px;\n",
       "      padding: 0 0 0 0;\n",
       "      width: 32px;\n",
       "    }\n",
       "\n",
       "    .colab-df-convert:hover {\n",
       "      background-color: #E2EBFA;\n",
       "      box-shadow: 0px 1px 2px rgba(60, 64, 67, 0.3), 0px 1px 3px 1px rgba(60, 64, 67, 0.15);\n",
       "      fill: #174EA6;\n",
       "    }\n",
       "\n",
       "    .colab-df-buttons div {\n",
       "      margin-bottom: 4px;\n",
       "    }\n",
       "\n",
       "    [theme=dark] .colab-df-convert {\n",
       "      background-color: #3B4455;\n",
       "      fill: #D2E3FC;\n",
       "    }\n",
       "\n",
       "    [theme=dark] .colab-df-convert:hover {\n",
       "      background-color: #434B5C;\n",
       "      box-shadow: 0px 1px 3px 1px rgba(0, 0, 0, 0.15);\n",
       "      filter: drop-shadow(0px 1px 2px rgba(0, 0, 0, 0.3));\n",
       "      fill: #FFFFFF;\n",
       "    }\n",
       "  </style>\n",
       "\n",
       "    <script>\n",
       "      const buttonEl =\n",
       "        document.querySelector('#df-e2261824-735c-4e4a-9a6e-9ad267684667 button.colab-df-convert');\n",
       "      buttonEl.style.display =\n",
       "        google.colab.kernel.accessAllowed ? 'block' : 'none';\n",
       "\n",
       "      async function convertToInteractive(key) {\n",
       "        const element = document.querySelector('#df-e2261824-735c-4e4a-9a6e-9ad267684667');\n",
       "        const dataTable =\n",
       "          await google.colab.kernel.invokeFunction('convertToInteractive',\n",
       "                                                    [key], {});\n",
       "        if (!dataTable) return;\n",
       "\n",
       "        const docLinkHtml = 'Like what you see? Visit the ' +\n",
       "          '<a target=\"_blank\" href=https://colab.research.google.com/notebooks/data_table.ipynb>data table notebook</a>'\n",
       "          + ' to learn more about interactive tables.';\n",
       "        element.innerHTML = '';\n",
       "        dataTable['output_type'] = 'display_data';\n",
       "        await google.colab.output.renderOutput(dataTable, element);\n",
       "        const docLink = document.createElement('div');\n",
       "        docLink.innerHTML = docLinkHtml;\n",
       "        element.appendChild(docLink);\n",
       "      }\n",
       "    </script>\n",
       "  </div>\n",
       "\n",
       "\n",
       "<div id=\"df-e3058760-e7de-4c09-8e3a-2f8d594ecd0a\">\n",
       "  <button class=\"colab-df-quickchart\" onclick=\"quickchart('df-e3058760-e7de-4c09-8e3a-2f8d594ecd0a')\"\n",
       "            title=\"Suggest charts\"\n",
       "            style=\"display:none;\">\n",
       "\n",
       "<svg xmlns=\"http://www.w3.org/2000/svg\" height=\"24px\"viewBox=\"0 0 24 24\"\n",
       "     width=\"24px\">\n",
       "    <g>\n",
       "        <path d=\"M19 3H5c-1.1 0-2 .9-2 2v14c0 1.1.9 2 2 2h14c1.1 0 2-.9 2-2V5c0-1.1-.9-2-2-2zM9 17H7v-7h2v7zm4 0h-2V7h2v10zm4 0h-2v-4h2v4z\"/>\n",
       "    </g>\n",
       "</svg>\n",
       "  </button>\n",
       "\n",
       "<style>\n",
       "  .colab-df-quickchart {\n",
       "      --bg-color: #E8F0FE;\n",
       "      --fill-color: #1967D2;\n",
       "      --hover-bg-color: #E2EBFA;\n",
       "      --hover-fill-color: #174EA6;\n",
       "      --disabled-fill-color: #AAA;\n",
       "      --disabled-bg-color: #DDD;\n",
       "  }\n",
       "\n",
       "  [theme=dark] .colab-df-quickchart {\n",
       "      --bg-color: #3B4455;\n",
       "      --fill-color: #D2E3FC;\n",
       "      --hover-bg-color: #434B5C;\n",
       "      --hover-fill-color: #FFFFFF;\n",
       "      --disabled-bg-color: #3B4455;\n",
       "      --disabled-fill-color: #666;\n",
       "  }\n",
       "\n",
       "  .colab-df-quickchart {\n",
       "    background-color: var(--bg-color);\n",
       "    border: none;\n",
       "    border-radius: 50%;\n",
       "    cursor: pointer;\n",
       "    display: none;\n",
       "    fill: var(--fill-color);\n",
       "    height: 32px;\n",
       "    padding: 0;\n",
       "    width: 32px;\n",
       "  }\n",
       "\n",
       "  .colab-df-quickchart:hover {\n",
       "    background-color: var(--hover-bg-color);\n",
       "    box-shadow: 0 1px 2px rgba(60, 64, 67, 0.3), 0 1px 3px 1px rgba(60, 64, 67, 0.15);\n",
       "    fill: var(--button-hover-fill-color);\n",
       "  }\n",
       "\n",
       "  .colab-df-quickchart-complete:disabled,\n",
       "  .colab-df-quickchart-complete:disabled:hover {\n",
       "    background-color: var(--disabled-bg-color);\n",
       "    fill: var(--disabled-fill-color);\n",
       "    box-shadow: none;\n",
       "  }\n",
       "\n",
       "  .colab-df-spinner {\n",
       "    border: 2px solid var(--fill-color);\n",
       "    border-color: transparent;\n",
       "    border-bottom-color: var(--fill-color);\n",
       "    animation:\n",
       "      spin 1s steps(1) infinite;\n",
       "  }\n",
       "\n",
       "  @keyframes spin {\n",
       "    0% {\n",
       "      border-color: transparent;\n",
       "      border-bottom-color: var(--fill-color);\n",
       "      border-left-color: var(--fill-color);\n",
       "    }\n",
       "    20% {\n",
       "      border-color: transparent;\n",
       "      border-left-color: var(--fill-color);\n",
       "      border-top-color: var(--fill-color);\n",
       "    }\n",
       "    30% {\n",
       "      border-color: transparent;\n",
       "      border-left-color: var(--fill-color);\n",
       "      border-top-color: var(--fill-color);\n",
       "      border-right-color: var(--fill-color);\n",
       "    }\n",
       "    40% {\n",
       "      border-color: transparent;\n",
       "      border-right-color: var(--fill-color);\n",
       "      border-top-color: var(--fill-color);\n",
       "    }\n",
       "    60% {\n",
       "      border-color: transparent;\n",
       "      border-right-color: var(--fill-color);\n",
       "    }\n",
       "    80% {\n",
       "      border-color: transparent;\n",
       "      border-right-color: var(--fill-color);\n",
       "      border-bottom-color: var(--fill-color);\n",
       "    }\n",
       "    90% {\n",
       "      border-color: transparent;\n",
       "      border-bottom-color: var(--fill-color);\n",
       "    }\n",
       "  }\n",
       "</style>\n",
       "\n",
       "  <script>\n",
       "    async function quickchart(key) {\n",
       "      const quickchartButtonEl =\n",
       "        document.querySelector('#' + key + ' button');\n",
       "      quickchartButtonEl.disabled = true;  // To prevent multiple clicks.\n",
       "      quickchartButtonEl.classList.add('colab-df-spinner');\n",
       "      try {\n",
       "        const charts = await google.colab.kernel.invokeFunction(\n",
       "            'suggestCharts', [key], {});\n",
       "      } catch (error) {\n",
       "        console.error('Error during call to suggestCharts:', error);\n",
       "      }\n",
       "      quickchartButtonEl.classList.remove('colab-df-spinner');\n",
       "      quickchartButtonEl.classList.add('colab-df-quickchart-complete');\n",
       "    }\n",
       "    (() => {\n",
       "      let quickchartButtonEl =\n",
       "        document.querySelector('#df-e3058760-e7de-4c09-8e3a-2f8d594ecd0a button');\n",
       "      quickchartButtonEl.style.display =\n",
       "        google.colab.kernel.accessAllowed ? 'block' : 'none';\n",
       "    })();\n",
       "  </script>\n",
       "</div>\n",
       "    </div>\n",
       "  </div>\n"
      ],
      "text/plain": [
       "          coef  std err       t  P>|t|\n",
       "const  34.5538    0.563  61.415    0.0\n",
       "lstat  -0.9500    0.039 -24.528    0.0"
      ]
     },
     "execution_count": 31,
     "metadata": {},
     "output_type": "execute_result"
    }
   ],
   "source": [
    "summarize(results)"
   ]
  },
  {
   "cell_type": "code",
   "execution_count": null,
   "metadata": {
    "colab": {
     "base_uri": "https://localhost:8080/"
    },
    "id": "kxQyFtg8cQ-C",
    "outputId": "b6a924f1-c4d7-47bd-8a2e-fe6d08491008"
   },
   "outputs": [
    {
     "data": {
      "text/plain": [
       "const    34.553841\n",
       "lstat    -0.950049\n",
       "dtype: float64"
      ]
     },
     "execution_count": 32,
     "metadata": {},
     "output_type": "execute_result"
    }
   ],
   "source": [
    "results.params"
   ]
  },
  {
   "cell_type": "code",
   "execution_count": 25,
   "metadata": {
    "id": "nwkPGQsWcSNS",
    "scrolled": true
   },
   "outputs": [
    {
     "ename": "KeyError",
     "evalue": "'lstat_2'",
     "output_type": "error",
     "traceback": [
      "\u001b[0;31m---------------------------------------------------------------------------\u001b[0m",
      "\u001b[0;31mKeyError\u001b[0m                                  Traceback (most recent call last)",
      "File \u001b[0;32m/opt/conda/lib/python3.10/site-packages/pandas/core/indexes/base.py:3802\u001b[0m, in \u001b[0;36mIndex.get_loc\u001b[0;34m(self, key, method, tolerance)\u001b[0m\n\u001b[1;32m   3801\u001b[0m \u001b[38;5;28;01mtry\u001b[39;00m:\n\u001b[0;32m-> 3802\u001b[0m     \u001b[38;5;28;01mreturn\u001b[39;00m \u001b[38;5;28;43mself\u001b[39;49m\u001b[38;5;241;43m.\u001b[39;49m\u001b[43m_engine\u001b[49m\u001b[38;5;241;43m.\u001b[39;49m\u001b[43mget_loc\u001b[49m\u001b[43m(\u001b[49m\u001b[43mcasted_key\u001b[49m\u001b[43m)\u001b[49m\n\u001b[1;32m   3803\u001b[0m \u001b[38;5;28;01mexcept\u001b[39;00m \u001b[38;5;167;01mKeyError\u001b[39;00m \u001b[38;5;28;01mas\u001b[39;00m err:\n",
      "File \u001b[0;32m/opt/conda/lib/python3.10/site-packages/pandas/_libs/index.pyx:138\u001b[0m, in \u001b[0;36mpandas._libs.index.IndexEngine.get_loc\u001b[0;34m()\u001b[0m\n",
      "File \u001b[0;32m/opt/conda/lib/python3.10/site-packages/pandas/_libs/index.pyx:165\u001b[0m, in \u001b[0;36mpandas._libs.index.IndexEngine.get_loc\u001b[0;34m()\u001b[0m\n",
      "File \u001b[0;32mpandas/_libs/hashtable_class_helper.pxi:5745\u001b[0m, in \u001b[0;36mpandas._libs.hashtable.PyObjectHashTable.get_item\u001b[0;34m()\u001b[0m\n",
      "File \u001b[0;32mpandas/_libs/hashtable_class_helper.pxi:5753\u001b[0m, in \u001b[0;36mpandas._libs.hashtable.PyObjectHashTable.get_item\u001b[0;34m()\u001b[0m\n",
      "\u001b[0;31mKeyError\u001b[0m: 'lstat_2'",
      "\nThe above exception was the direct cause of the following exception:\n",
      "\u001b[0;31mKeyError\u001b[0m                                  Traceback (most recent call last)",
      "Cell \u001b[0;32mIn[25], line 9\u001b[0m\n\u001b[1;32m      5\u001b[0m lstat_line \u001b[38;5;241m=\u001b[39m np\u001b[38;5;241m.\u001b[39mlinspace(dataset[\u001b[38;5;124m'\u001b[39m\u001b[38;5;124mlstat\u001b[39m\u001b[38;5;124m'\u001b[39m]\u001b[38;5;241m.\u001b[39mmin(), dataset[\u001b[38;5;124m'\u001b[39m\u001b[38;5;124mlstat\u001b[39m\u001b[38;5;124m'\u001b[39m]\u001b[38;5;241m.\u001b[39mmax(), \u001b[38;5;241m100\u001b[39m)\n\u001b[1;32m      7\u001b[0m \u001b[38;5;66;03m# Calculate the corresponding medv values using the regression results\u001b[39;00m\n\u001b[1;32m      8\u001b[0m \u001b[38;5;66;03m# Include the quadratic term in the prediction\u001b[39;00m\n\u001b[0;32m----> 9\u001b[0m medv_line \u001b[38;5;241m=\u001b[39m results\u001b[38;5;241m.\u001b[39mparams[\u001b[38;5;124m'\u001b[39m\u001b[38;5;124mconst\u001b[39m\u001b[38;5;124m'\u001b[39m] \u001b[38;5;241m+\u001b[39m results\u001b[38;5;241m.\u001b[39mparams[\u001b[38;5;124m'\u001b[39m\u001b[38;5;124mlstat\u001b[39m\u001b[38;5;124m'\u001b[39m] \u001b[38;5;241m*\u001b[39m lstat_line \u001b[38;5;241m+\u001b[39m \u001b[43mresults\u001b[49m\u001b[38;5;241;43m.\u001b[39;49m\u001b[43mparams\u001b[49m\u001b[43m[\u001b[49m\u001b[38;5;124;43m'\u001b[39;49m\u001b[38;5;124;43mlstat_2\u001b[39;49m\u001b[38;5;124;43m'\u001b[39;49m\u001b[43m]\u001b[49m \u001b[38;5;241m*\u001b[39m lstat_line\u001b[38;5;241m*\u001b[39m\u001b[38;5;241m*\u001b[39m\u001b[38;5;241m2\u001b[39m\n\u001b[1;32m     11\u001b[0m \u001b[38;5;66;03m# Plot the quadratic curve\u001b[39;00m\n\u001b[1;32m     12\u001b[0m plt\u001b[38;5;241m.\u001b[39mplot(lstat_line, medv_line, color\u001b[38;5;241m=\u001b[39m\u001b[38;5;124m'\u001b[39m\u001b[38;5;124mred\u001b[39m\u001b[38;5;124m'\u001b[39m, label\u001b[38;5;241m=\u001b[39m\u001b[38;5;124m'\u001b[39m\u001b[38;5;124mQuadratic fit\u001b[39m\u001b[38;5;124m'\u001b[39m)\n",
      "File \u001b[0;32m/opt/conda/lib/python3.10/site-packages/pandas/core/series.py:981\u001b[0m, in \u001b[0;36mSeries.__getitem__\u001b[0;34m(self, key)\u001b[0m\n\u001b[1;32m    978\u001b[0m     \u001b[38;5;28;01mreturn\u001b[39;00m \u001b[38;5;28mself\u001b[39m\u001b[38;5;241m.\u001b[39m_values[key]\n\u001b[1;32m    980\u001b[0m \u001b[38;5;28;01melif\u001b[39;00m key_is_scalar:\n\u001b[0;32m--> 981\u001b[0m     \u001b[38;5;28;01mreturn\u001b[39;00m \u001b[38;5;28;43mself\u001b[39;49m\u001b[38;5;241;43m.\u001b[39;49m\u001b[43m_get_value\u001b[49m\u001b[43m(\u001b[49m\u001b[43mkey\u001b[49m\u001b[43m)\u001b[49m\n\u001b[1;32m    983\u001b[0m \u001b[38;5;28;01mif\u001b[39;00m is_hashable(key):\n\u001b[1;32m    984\u001b[0m     \u001b[38;5;66;03m# Otherwise index.get_value will raise InvalidIndexError\u001b[39;00m\n\u001b[1;32m    985\u001b[0m     \u001b[38;5;28;01mtry\u001b[39;00m:\n\u001b[1;32m    986\u001b[0m         \u001b[38;5;66;03m# For labels that don't resolve as scalars like tuples and frozensets\u001b[39;00m\n",
      "File \u001b[0;32m/opt/conda/lib/python3.10/site-packages/pandas/core/series.py:1089\u001b[0m, in \u001b[0;36mSeries._get_value\u001b[0;34m(self, label, takeable)\u001b[0m\n\u001b[1;32m   1086\u001b[0m     \u001b[38;5;28;01mreturn\u001b[39;00m \u001b[38;5;28mself\u001b[39m\u001b[38;5;241m.\u001b[39m_values[label]\n\u001b[1;32m   1088\u001b[0m \u001b[38;5;66;03m# Similar to Index.get_value, but we do not fall back to positional\u001b[39;00m\n\u001b[0;32m-> 1089\u001b[0m loc \u001b[38;5;241m=\u001b[39m \u001b[38;5;28;43mself\u001b[39;49m\u001b[38;5;241;43m.\u001b[39;49m\u001b[43mindex\u001b[49m\u001b[38;5;241;43m.\u001b[39;49m\u001b[43mget_loc\u001b[49m\u001b[43m(\u001b[49m\u001b[43mlabel\u001b[49m\u001b[43m)\u001b[49m\n\u001b[1;32m   1090\u001b[0m \u001b[38;5;28;01mreturn\u001b[39;00m \u001b[38;5;28mself\u001b[39m\u001b[38;5;241m.\u001b[39mindex\u001b[38;5;241m.\u001b[39m_get_values_for_loc(\u001b[38;5;28mself\u001b[39m, loc, label)\n",
      "File \u001b[0;32m/opt/conda/lib/python3.10/site-packages/pandas/core/indexes/base.py:3804\u001b[0m, in \u001b[0;36mIndex.get_loc\u001b[0;34m(self, key, method, tolerance)\u001b[0m\n\u001b[1;32m   3802\u001b[0m     \u001b[38;5;28;01mreturn\u001b[39;00m \u001b[38;5;28mself\u001b[39m\u001b[38;5;241m.\u001b[39m_engine\u001b[38;5;241m.\u001b[39mget_loc(casted_key)\n\u001b[1;32m   3803\u001b[0m \u001b[38;5;28;01mexcept\u001b[39;00m \u001b[38;5;167;01mKeyError\u001b[39;00m \u001b[38;5;28;01mas\u001b[39;00m err:\n\u001b[0;32m-> 3804\u001b[0m     \u001b[38;5;28;01mraise\u001b[39;00m \u001b[38;5;167;01mKeyError\u001b[39;00m(key) \u001b[38;5;28;01mfrom\u001b[39;00m \u001b[38;5;21;01merr\u001b[39;00m\n\u001b[1;32m   3805\u001b[0m \u001b[38;5;28;01mexcept\u001b[39;00m \u001b[38;5;167;01mTypeError\u001b[39;00m:\n\u001b[1;32m   3806\u001b[0m     \u001b[38;5;66;03m# If we have a listlike key, _check_indexing_error will raise\u001b[39;00m\n\u001b[1;32m   3807\u001b[0m     \u001b[38;5;66;03m#  InvalidIndexError. Otherwise we fall through and re-raise\u001b[39;00m\n\u001b[1;32m   3808\u001b[0m     \u001b[38;5;66;03m#  the TypeError.\u001b[39;00m\n\u001b[1;32m   3809\u001b[0m     \u001b[38;5;28mself\u001b[39m\u001b[38;5;241m.\u001b[39m_check_indexing_error(key)\n",
      "\u001b[0;31mKeyError\u001b[0m: 'lstat_2'"
     ]
    },
    {
     "data": {
      "image/png": "[encoded data removed]",
      "text/plain": [
       "<Figure size 640x480 with 1 Axes>"
      ]
     },
     "metadata": {},
     "output_type": "display_data"
    }
   ],
   "source": [
    "# Scatter plot of the data points\n",
    "plt.scatter(dataset['lstat'], dataset['medv'], color='blue', label='Data points')\n",
    "\n",
    "# Generate a range of values for lstat to plot the curve\n",
    "lstat_line = np.linspace(dataset['lstat'].min(), dataset['lstat'].max(), 100)\n",
    "\n",
    "# Calculate the corresponding medv values using the regression results\n",
    "# Include the quadratic term in the prediction\n",
    "medv_line = results.params['const'] + results.params['lstat'] * lstat_line + results.params['lstat_2'] * lstat_line**2\n",
    "\n",
    "# Plot the quadratic curve\n",
    "plt.plot(lstat_line, medv_line, color='red', label='Quadratic fit')\n",
    "\n",
    "# Label the axes and add a title\n",
    "plt.xlabel('LSTAT')\n",
    "plt.ylabel('MEDV')\n",
    "plt.title('Scatter plot with quadratic fit')\n",
    "\n",
    "# Show the legend\n",
    "plt.legend()\n",
    "\n",
    "# Display the plot\n",
    "plt.show()"
   ]
  }
 ],
 "metadata": {
  "colab": {
   "provenance": []
  },
  "kernelspec": {
   "display_name": "Python 3 (ipykernel)",
   "language": "python",
   "name": "python3"
  },
  "language_info": {
   "codemirror_mode": {
    "name": "ipython",
    "version": 3
   },
   "file_extension": ".py",
   "mimetype": "text/x-python",
   "name": "python",
   "nbconvert_exporter": "python",
   "pygments_lexer": "ipython3",
   "version": "3.11.6"
  }
 },
 "nbformat": 4,
 "nbformat_minor": 1
}
